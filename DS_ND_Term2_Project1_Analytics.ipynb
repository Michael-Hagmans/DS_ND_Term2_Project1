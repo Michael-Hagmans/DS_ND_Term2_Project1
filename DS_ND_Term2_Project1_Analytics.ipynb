{
 "cells": [
  {
   "cell_type": "markdown",
   "metadata": {},
   "source": [
    "### 1. Business Understanding\n",
    "\n",
    "Within this notebook I analyze AirBNB data from Seattle. In doing so I would like to answer the following questions:\n",
    "1. How does the average price per night differ for differnet room types? Is there also a difference in variance?\n",
    "2. Can the findings be explained by room size?\n",
    "3. The list of input variables is huge. Can we find most important fields based on lasso regression?"
   ]
  },
  {
   "cell_type": "markdown",
   "metadata": {},
   "source": [
    "### 2. Data Understanding\n",
    "\n",
    "\n"
   ]
  },
  {
   "cell_type": "code",
   "execution_count": 73,
   "metadata": {},
   "outputs": [],
   "source": [
    "# Load all libraries needed within this notebook here.\n",
    "import pandas as pd\n",
    "import numpy as np\n",
    "import matplotlib.pyplot as plt\n",
    "import seaborn as sns\n",
    "from sklearn.linear_model import LinearRegression\n",
    "from sklearn.linear_model import Lasso\n",
    "from sklearn.metrics import r2_score, mean_squared_error\n",
    "from sklearn.model_selection import train_test_split\n",
    "%matplotlib inline"
   ]
  },
  {
   "cell_type": "code",
   "execution_count": 2,
   "metadata": {},
   "outputs": [],
   "source": [
    "# Load all necessary data files and assign data frames.\n",
    "listings_df = pd.read_csv('./listings.csv')\n",
    "#calendar_df = pd.read_csv('./calendar.csv')\n",
    "#reviews_df = pd.read_csv('./reviews.csv')"
   ]
  },
  {
   "cell_type": "code",
   "execution_count": 3,
   "metadata": {},
   "outputs": [
    {
     "data": {
      "text/html": [
       "<div>\n",
       "<style scoped>\n",
       "    .dataframe tbody tr th:only-of-type {\n",
       "        vertical-align: middle;\n",
       "    }\n",
       "\n",
       "    .dataframe tbody tr th {\n",
       "        vertical-align: top;\n",
       "    }\n",
       "\n",
       "    .dataframe thead th {\n",
       "        text-align: right;\n",
       "    }\n",
       "</style>\n",
       "<table border=\"1\" class=\"dataframe\">\n",
       "  <thead>\n",
       "    <tr style=\"text-align: right;\">\n",
       "      <th></th>\n",
       "      <th>id</th>\n",
       "      <th>listing_url</th>\n",
       "      <th>scrape_id</th>\n",
       "      <th>last_scraped</th>\n",
       "      <th>name</th>\n",
       "      <th>summary</th>\n",
       "      <th>space</th>\n",
       "      <th>description</th>\n",
       "      <th>experiences_offered</th>\n",
       "      <th>neighborhood_overview</th>\n",
       "      <th>...</th>\n",
       "      <th>review_scores_value</th>\n",
       "      <th>requires_license</th>\n",
       "      <th>license</th>\n",
       "      <th>jurisdiction_names</th>\n",
       "      <th>instant_bookable</th>\n",
       "      <th>cancellation_policy</th>\n",
       "      <th>require_guest_profile_picture</th>\n",
       "      <th>require_guest_phone_verification</th>\n",
       "      <th>calculated_host_listings_count</th>\n",
       "      <th>reviews_per_month</th>\n",
       "    </tr>\n",
       "  </thead>\n",
       "  <tbody>\n",
       "    <tr>\n",
       "      <th>0</th>\n",
       "      <td>241032</td>\n",
       "      <td>https://www.airbnb.com/rooms/241032</td>\n",
       "      <td>20160104002432</td>\n",
       "      <td>2016-01-04</td>\n",
       "      <td>Stylish Queen Anne Apartment</td>\n",
       "      <td>NaN</td>\n",
       "      <td>Make your self at home in this charming one-be...</td>\n",
       "      <td>Make your self at home in this charming one-be...</td>\n",
       "      <td>none</td>\n",
       "      <td>NaN</td>\n",
       "      <td>...</td>\n",
       "      <td>10.0</td>\n",
       "      <td>f</td>\n",
       "      <td>NaN</td>\n",
       "      <td>WASHINGTON</td>\n",
       "      <td>f</td>\n",
       "      <td>moderate</td>\n",
       "      <td>f</td>\n",
       "      <td>f</td>\n",
       "      <td>2</td>\n",
       "      <td>4.07</td>\n",
       "    </tr>\n",
       "    <tr>\n",
       "      <th>1</th>\n",
       "      <td>953595</td>\n",
       "      <td>https://www.airbnb.com/rooms/953595</td>\n",
       "      <td>20160104002432</td>\n",
       "      <td>2016-01-04</td>\n",
       "      <td>Bright &amp; Airy Queen Anne Apartment</td>\n",
       "      <td>Chemically sensitive? We've removed the irrita...</td>\n",
       "      <td>Beautiful, hypoallergenic apartment in an extr...</td>\n",
       "      <td>Chemically sensitive? We've removed the irrita...</td>\n",
       "      <td>none</td>\n",
       "      <td>Queen Anne is a wonderful, truly functional vi...</td>\n",
       "      <td>...</td>\n",
       "      <td>10.0</td>\n",
       "      <td>f</td>\n",
       "      <td>NaN</td>\n",
       "      <td>WASHINGTON</td>\n",
       "      <td>f</td>\n",
       "      <td>strict</td>\n",
       "      <td>t</td>\n",
       "      <td>t</td>\n",
       "      <td>6</td>\n",
       "      <td>1.48</td>\n",
       "    </tr>\n",
       "    <tr>\n",
       "      <th>2</th>\n",
       "      <td>3308979</td>\n",
       "      <td>https://www.airbnb.com/rooms/3308979</td>\n",
       "      <td>20160104002432</td>\n",
       "      <td>2016-01-04</td>\n",
       "      <td>New Modern House-Amazing water view</td>\n",
       "      <td>New modern house built in 2013.  Spectacular s...</td>\n",
       "      <td>Our house is modern, light and fresh with a wa...</td>\n",
       "      <td>New modern house built in 2013.  Spectacular s...</td>\n",
       "      <td>none</td>\n",
       "      <td>Upper Queen Anne is a charming neighborhood fu...</td>\n",
       "      <td>...</td>\n",
       "      <td>10.0</td>\n",
       "      <td>f</td>\n",
       "      <td>NaN</td>\n",
       "      <td>WASHINGTON</td>\n",
       "      <td>f</td>\n",
       "      <td>strict</td>\n",
       "      <td>f</td>\n",
       "      <td>f</td>\n",
       "      <td>2</td>\n",
       "      <td>1.15</td>\n",
       "    </tr>\n",
       "    <tr>\n",
       "      <th>3</th>\n",
       "      <td>7421966</td>\n",
       "      <td>https://www.airbnb.com/rooms/7421966</td>\n",
       "      <td>20160104002432</td>\n",
       "      <td>2016-01-04</td>\n",
       "      <td>Queen Anne Chateau</td>\n",
       "      <td>A charming apartment that sits atop Queen Anne...</td>\n",
       "      <td>NaN</td>\n",
       "      <td>A charming apartment that sits atop Queen Anne...</td>\n",
       "      <td>none</td>\n",
       "      <td>NaN</td>\n",
       "      <td>...</td>\n",
       "      <td>NaN</td>\n",
       "      <td>f</td>\n",
       "      <td>NaN</td>\n",
       "      <td>WASHINGTON</td>\n",
       "      <td>f</td>\n",
       "      <td>flexible</td>\n",
       "      <td>f</td>\n",
       "      <td>f</td>\n",
       "      <td>1</td>\n",
       "      <td>NaN</td>\n",
       "    </tr>\n",
       "    <tr>\n",
       "      <th>4</th>\n",
       "      <td>278830</td>\n",
       "      <td>https://www.airbnb.com/rooms/278830</td>\n",
       "      <td>20160104002432</td>\n",
       "      <td>2016-01-04</td>\n",
       "      <td>Charming craftsman 3 bdm house</td>\n",
       "      <td>Cozy family craftman house in beautiful neighb...</td>\n",
       "      <td>Cozy family craftman house in beautiful neighb...</td>\n",
       "      <td>Cozy family craftman house in beautiful neighb...</td>\n",
       "      <td>none</td>\n",
       "      <td>We are in the beautiful neighborhood of Queen ...</td>\n",
       "      <td>...</td>\n",
       "      <td>9.0</td>\n",
       "      <td>f</td>\n",
       "      <td>NaN</td>\n",
       "      <td>WASHINGTON</td>\n",
       "      <td>f</td>\n",
       "      <td>strict</td>\n",
       "      <td>f</td>\n",
       "      <td>f</td>\n",
       "      <td>1</td>\n",
       "      <td>0.89</td>\n",
       "    </tr>\n",
       "  </tbody>\n",
       "</table>\n",
       "<p>5 rows × 92 columns</p>\n",
       "</div>"
      ],
      "text/plain": [
       "        id                           listing_url       scrape_id last_scraped  \\\n",
       "0   241032   https://www.airbnb.com/rooms/241032  20160104002432   2016-01-04   \n",
       "1   953595   https://www.airbnb.com/rooms/953595  20160104002432   2016-01-04   \n",
       "2  3308979  https://www.airbnb.com/rooms/3308979  20160104002432   2016-01-04   \n",
       "3  7421966  https://www.airbnb.com/rooms/7421966  20160104002432   2016-01-04   \n",
       "4   278830   https://www.airbnb.com/rooms/278830  20160104002432   2016-01-04   \n",
       "\n",
       "                                  name  \\\n",
       "0         Stylish Queen Anne Apartment   \n",
       "1   Bright & Airy Queen Anne Apartment   \n",
       "2  New Modern House-Amazing water view   \n",
       "3                   Queen Anne Chateau   \n",
       "4       Charming craftsman 3 bdm house   \n",
       "\n",
       "                                             summary  \\\n",
       "0                                                NaN   \n",
       "1  Chemically sensitive? We've removed the irrita...   \n",
       "2  New modern house built in 2013.  Spectacular s...   \n",
       "3  A charming apartment that sits atop Queen Anne...   \n",
       "4  Cozy family craftman house in beautiful neighb...   \n",
       "\n",
       "                                               space  \\\n",
       "0  Make your self at home in this charming one-be...   \n",
       "1  Beautiful, hypoallergenic apartment in an extr...   \n",
       "2  Our house is modern, light and fresh with a wa...   \n",
       "3                                                NaN   \n",
       "4  Cozy family craftman house in beautiful neighb...   \n",
       "\n",
       "                                         description experiences_offered  \\\n",
       "0  Make your self at home in this charming one-be...                none   \n",
       "1  Chemically sensitive? We've removed the irrita...                none   \n",
       "2  New modern house built in 2013.  Spectacular s...                none   \n",
       "3  A charming apartment that sits atop Queen Anne...                none   \n",
       "4  Cozy family craftman house in beautiful neighb...                none   \n",
       "\n",
       "                               neighborhood_overview        ...         \\\n",
       "0                                                NaN        ...          \n",
       "1  Queen Anne is a wonderful, truly functional vi...        ...          \n",
       "2  Upper Queen Anne is a charming neighborhood fu...        ...          \n",
       "3                                                NaN        ...          \n",
       "4  We are in the beautiful neighborhood of Queen ...        ...          \n",
       "\n",
       "  review_scores_value requires_license license jurisdiction_names  \\\n",
       "0                10.0                f     NaN         WASHINGTON   \n",
       "1                10.0                f     NaN         WASHINGTON   \n",
       "2                10.0                f     NaN         WASHINGTON   \n",
       "3                 NaN                f     NaN         WASHINGTON   \n",
       "4                 9.0                f     NaN         WASHINGTON   \n",
       "\n",
       "  instant_bookable cancellation_policy  require_guest_profile_picture  \\\n",
       "0                f            moderate                              f   \n",
       "1                f              strict                              t   \n",
       "2                f              strict                              f   \n",
       "3                f            flexible                              f   \n",
       "4                f              strict                              f   \n",
       "\n",
       "  require_guest_phone_verification calculated_host_listings_count  \\\n",
       "0                                f                              2   \n",
       "1                                t                              6   \n",
       "2                                f                              2   \n",
       "3                                f                              1   \n",
       "4                                f                              1   \n",
       "\n",
       "  reviews_per_month  \n",
       "0              4.07  \n",
       "1              1.48  \n",
       "2              1.15  \n",
       "3               NaN  \n",
       "4              0.89  \n",
       "\n",
       "[5 rows x 92 columns]"
      ]
     },
     "execution_count": 3,
     "metadata": {},
     "output_type": "execute_result"
    }
   ],
   "source": [
    "# Have first look at the data set:\n",
    "listings_df.head()"
   ]
  },
  {
   "cell_type": "code",
   "execution_count": 4,
   "metadata": {},
   "outputs": [
    {
     "name": "stdout",
     "output_type": "stream",
     "text": [
      "There are 3818 rows in the data set with 92 columns.\n"
     ]
    }
   ],
   "source": [
    "# How many rows and columns do we see?\n",
    "number_rows = listings_df.shape[0]\n",
    "number_columns = listings_df.shape[1]\n",
    "\n",
    "print('There are', number_rows, 'rows in the data set with', number_columns, 'columns.')"
   ]
  },
  {
   "cell_type": "code",
   "execution_count": 5,
   "metadata": {},
   "outputs": [
    {
     "name": "stdout",
     "output_type": "stream",
     "text": [
      "47 fields have no missing values.\n",
      "4 fields have more than 50% missing values.\n"
     ]
    }
   ],
   "source": [
    "# Let´s have a look at missing values:\n",
    "#fields_with_no_nulls = set(listings_df.columns[listings_df.isnull()==0])\n",
    "fields_with_no_nulls = set(listings_df.columns[listings_df.isnull().mean()==0])\n",
    "fields_with_many_nulls = set(listings_df.columns[listings_df.isnull().mean() > 0.50])\n",
    "print(len(fields_with_no_nulls), 'fields have no missing values.')\n",
    "print(len(fields_with_many_nulls), 'fields have more than 50 % missing values.')\n"
   ]
  },
  {
   "cell_type": "code",
   "execution_count": 6,
   "metadata": {},
   "outputs": [
    {
     "name": "stdout",
     "output_type": "stream",
     "text": [
      "['id', 'listing_url', 'scrape_id', 'last_scraped', 'name', 'summary', 'space', 'description', 'experiences_offered', 'neighborhood_overview', 'notes', 'transit', 'thumbnail_url', 'medium_url', 'picture_url', 'xl_picture_url', 'host_id', 'host_url', 'host_name', 'host_since', 'host_location', 'host_about', 'host_response_time', 'host_response_rate', 'host_acceptance_rate', 'host_is_superhost', 'host_thumbnail_url', 'host_picture_url', 'host_neighbourhood', 'host_listings_count', 'host_total_listings_count', 'host_verifications', 'host_has_profile_pic', 'host_identity_verified', 'street', 'neighbourhood', 'neighbourhood_cleansed', 'neighbourhood_group_cleansed', 'city', 'state', 'zipcode', 'market', 'smart_location', 'country_code', 'country', 'latitude', 'longitude', 'is_location_exact', 'property_type', 'room_type', 'accommodates', 'bathrooms', 'bedrooms', 'beds', 'bed_type', 'amenities', 'square_feet', 'price', 'weekly_price', 'monthly_price', 'security_deposit', 'cleaning_fee', 'guests_included', 'extra_people', 'minimum_nights', 'maximum_nights', 'calendar_updated', 'has_availability', 'availability_30', 'availability_60', 'availability_90', 'availability_365', 'calendar_last_scraped', 'number_of_reviews', 'first_review', 'last_review', 'review_scores_rating', 'review_scores_accuracy', 'review_scores_cleanliness', 'review_scores_checkin', 'review_scores_communication', 'review_scores_location', 'review_scores_value', 'requires_license', 'license', 'jurisdiction_names', 'instant_bookable', 'cancellation_policy', 'require_guest_profile_picture', 'require_guest_phone_verification', 'calculated_host_listings_count', 'reviews_per_month']\n"
     ]
    },
    {
     "data": {
      "text/html": [
       "<div>\n",
       "<style scoped>\n",
       "    .dataframe tbody tr th:only-of-type {\n",
       "        vertical-align: middle;\n",
       "    }\n",
       "\n",
       "    .dataframe tbody tr th {\n",
       "        vertical-align: top;\n",
       "    }\n",
       "\n",
       "    .dataframe thead th {\n",
       "        text-align: right;\n",
       "    }\n",
       "</style>\n",
       "<table border=\"1\" class=\"dataframe\">\n",
       "  <thead>\n",
       "    <tr style=\"text-align: right;\">\n",
       "      <th></th>\n",
       "      <th>review_scores_location</th>\n",
       "      <th>review_scores_value</th>\n",
       "      <th>requires_license</th>\n",
       "      <th>license</th>\n",
       "      <th>jurisdiction_names</th>\n",
       "      <th>instant_bookable</th>\n",
       "      <th>cancellation_policy</th>\n",
       "      <th>require_guest_profile_picture</th>\n",
       "      <th>require_guest_phone_verification</th>\n",
       "      <th>calculated_host_listings_count</th>\n",
       "      <th>reviews_per_month</th>\n",
       "    </tr>\n",
       "  </thead>\n",
       "  <tbody>\n",
       "    <tr>\n",
       "      <th>1</th>\n",
       "      <td>10.0</td>\n",
       "      <td>10.0</td>\n",
       "      <td>f</td>\n",
       "      <td>NaN</td>\n",
       "      <td>WASHINGTON</td>\n",
       "      <td>f</td>\n",
       "      <td>strict</td>\n",
       "      <td>t</td>\n",
       "      <td>t</td>\n",
       "      <td>6</td>\n",
       "      <td>1.48</td>\n",
       "    </tr>\n",
       "    <tr>\n",
       "      <th>2</th>\n",
       "      <td>10.0</td>\n",
       "      <td>10.0</td>\n",
       "      <td>f</td>\n",
       "      <td>NaN</td>\n",
       "      <td>WASHINGTON</td>\n",
       "      <td>f</td>\n",
       "      <td>strict</td>\n",
       "      <td>f</td>\n",
       "      <td>f</td>\n",
       "      <td>2</td>\n",
       "      <td>1.15</td>\n",
       "    </tr>\n",
       "    <tr>\n",
       "      <th>3</th>\n",
       "      <td>NaN</td>\n",
       "      <td>NaN</td>\n",
       "      <td>f</td>\n",
       "      <td>NaN</td>\n",
       "      <td>WASHINGTON</td>\n",
       "      <td>f</td>\n",
       "      <td>flexible</td>\n",
       "      <td>f</td>\n",
       "      <td>f</td>\n",
       "      <td>1</td>\n",
       "      <td>NaN</td>\n",
       "    </tr>\n",
       "    <tr>\n",
       "      <th>4</th>\n",
       "      <td>9.0</td>\n",
       "      <td>9.0</td>\n",
       "      <td>f</td>\n",
       "      <td>NaN</td>\n",
       "      <td>WASHINGTON</td>\n",
       "      <td>f</td>\n",
       "      <td>strict</td>\n",
       "      <td>f</td>\n",
       "      <td>f</td>\n",
       "      <td>1</td>\n",
       "      <td>0.89</td>\n",
       "    </tr>\n",
       "  </tbody>\n",
       "</table>\n",
       "</div>"
      ],
      "text/plain": [
       "   review_scores_location  review_scores_value requires_license  license  \\\n",
       "1                    10.0                 10.0                f      NaN   \n",
       "2                    10.0                 10.0                f      NaN   \n",
       "3                     NaN                  NaN                f      NaN   \n",
       "4                     9.0                  9.0                f      NaN   \n",
       "\n",
       "  jurisdiction_names instant_bookable cancellation_policy  \\\n",
       "1         WASHINGTON                f              strict   \n",
       "2         WASHINGTON                f              strict   \n",
       "3         WASHINGTON                f            flexible   \n",
       "4         WASHINGTON                f              strict   \n",
       "\n",
       "  require_guest_profile_picture require_guest_phone_verification  \\\n",
       "1                             t                                t   \n",
       "2                             f                                f   \n",
       "3                             f                                f   \n",
       "4                             f                                f   \n",
       "\n",
       "   calculated_host_listings_count  reviews_per_month  \n",
       "1                               6               1.48  \n",
       "2                               2               1.15  \n",
       "3                               1                NaN  \n",
       "4                               1               0.89  "
      ]
     },
     "execution_count": 6,
     "metadata": {},
     "output_type": "execute_result"
    }
   ],
   "source": [
    "# This can be used to see what field names contain:\n",
    "listings_col = list(listings_df.columns)\n",
    "print(listings_col)\n",
    "listings_df.iloc[1:5, 81:]"
   ]
  },
  {
   "cell_type": "code",
   "execution_count": 33,
   "metadata": {},
   "outputs": [
    {
     "data": {
      "text/plain": [
       "0     85.0\n",
       "1    150.0\n",
       "2    975.0\n",
       "3    100.0\n",
       "4    450.0\n",
       "Name: price, dtype: float64"
      ]
     },
     "execution_count": 33,
     "metadata": {},
     "output_type": "execute_result"
    }
   ],
   "source": [
    "# Explore target variable:\n",
    "listings_df['price'][0:5]"
   ]
  },
  {
   "cell_type": "code",
   "execution_count": 8,
   "metadata": {},
   "outputs": [],
   "source": [
    "# Price field contains '$'sign. Remove to convert price field from string to float:\n",
    "listings_df['price'] = listings_df['price'].apply(lambda x: str(x).strip('$').replace(',', ''))\n",
    "listings_df['price'] = listings_df['price'].astype('float64')\n",
    "\n",
    "listings_df['cleaning_fee'] = listings_df['cleaning_fee'].apply(lambda x: str(x).strip('$').replace(',', ''))\n",
    "listings_df['cleaning_fee'] = listings_df['cleaning_fee'].astype('float64')\n",
    "\n",
    "# This is usually a step in (3) Data Preparation. \n",
    "# Because we want to answer questions on room price and type, we need to clean that field already here.\n",
    "\n",
    "# apply function:\n",
    "# https://www.geeksforgeeks.org/clean-the-string-data-in-the-given-pandas-dataframe/"
   ]
  },
  {
   "cell_type": "code",
   "execution_count": 9,
   "metadata": {},
   "outputs": [
    {
     "name": "stdout",
     "output_type": "stream",
     "text": [
      "data types: \n",
      " id                                    int64\n",
      "listing_url                          object\n",
      "scrape_id                             int64\n",
      "last_scraped                         object\n",
      "name                                 object\n",
      "summary                              object\n",
      "space                                object\n",
      "description                          object\n",
      "experiences_offered                  object\n",
      "neighborhood_overview                object\n",
      "notes                                object\n",
      "transit                              object\n",
      "thumbnail_url                        object\n",
      "medium_url                           object\n",
      "picture_url                          object\n",
      "xl_picture_url                       object\n",
      "host_id                               int64\n",
      "host_url                             object\n",
      "host_name                            object\n",
      "host_since                           object\n",
      "host_location                        object\n",
      "host_about                           object\n",
      "host_response_time                   object\n",
      "host_response_rate                   object\n",
      "host_acceptance_rate                 object\n",
      "host_is_superhost                    object\n",
      "host_thumbnail_url                   object\n",
      "host_picture_url                     object\n",
      "host_neighbourhood                   object\n",
      "host_listings_count                 float64\n",
      "                                     ...   \n",
      "guests_included                       int64\n",
      "extra_people                         object\n",
      "minimum_nights                        int64\n",
      "maximum_nights                        int64\n",
      "calendar_updated                     object\n",
      "has_availability                     object\n",
      "availability_30                       int64\n",
      "availability_60                       int64\n",
      "availability_90                       int64\n",
      "availability_365                      int64\n",
      "calendar_last_scraped                object\n",
      "number_of_reviews                     int64\n",
      "first_review                         object\n",
      "last_review                          object\n",
      "review_scores_rating                float64\n",
      "review_scores_accuracy              float64\n",
      "review_scores_cleanliness           float64\n",
      "review_scores_checkin               float64\n",
      "review_scores_communication         float64\n",
      "review_scores_location              float64\n",
      "review_scores_value                 float64\n",
      "requires_license                     object\n",
      "license                             float64\n",
      "jurisdiction_names                   object\n",
      "instant_bookable                     object\n",
      "cancellation_policy                  object\n",
      "require_guest_profile_picture        object\n",
      "require_guest_phone_verification     object\n",
      "calculated_host_listings_count        int64\n",
      "reviews_per_month                   float64\n",
      "Length: 92, dtype: object\n"
     ]
    }
   ],
   "source": [
    "# See other field types:\n",
    "print(\"data types: \\n\", listings_df.dtypes)"
   ]
  },
  {
   "cell_type": "code",
   "execution_count": 10,
   "metadata": {},
   "outputs": [
    {
     "data": {
      "text/plain": [
       "(array([105., 411., 548., 627., 553., 380., 349., 183., 105., 130.,  72.,\n",
       "         99.,  18.,  34.,  49.,  17.,  39.,   5.,  11.,  21.,   5.,  15.,\n",
       "          2.,   4.,   9.,   1.,   1.,   6.,   1.,   4.,   0.,   0.,   0.,\n",
       "          2.,   3.,   0.,   0.,   3.,   1.,   0.,   0.,   0.,   0.,   0.,\n",
       "          1.,   0.,   0.,   1.,   1.,   2.]),\n",
       " array([  20. ,   39.6,   59.2,   78.8,   98.4,  118. ,  137.6,  157.2,\n",
       "         176.8,  196.4,  216. ,  235.6,  255.2,  274.8,  294.4,  314. ,\n",
       "         333.6,  353.2,  372.8,  392.4,  412. ,  431.6,  451.2,  470.8,\n",
       "         490.4,  510. ,  529.6,  549.2,  568.8,  588.4,  608. ,  627.6,\n",
       "         647.2,  666.8,  686.4,  706. ,  725.6,  745.2,  764.8,  784.4,\n",
       "         804. ,  823.6,  843.2,  862.8,  882.4,  902. ,  921.6,  941.2,\n",
       "         960.8,  980.4, 1000. ]),\n",
       " <a list of 50 Patch objects>)"
      ]
     },
     "execution_count": 10,
     "metadata": {},
     "output_type": "execute_result"
    },
    {
     "data": {
      "image/png": "[encoded data removed]",
      "text/plain": [
       "<Figure size 432x288 with 1 Axes>"
      ]
     },
     "metadata": {},
     "output_type": "display_data"
    }
   ],
   "source": [
    "# As I am highly interested in price behaviour in this data set, I plot the histogram for price field:\n",
    "plt.hist(listings_df['price'], bins = 50)\n",
    "\n",
    "# The data is right skewed: Many rooms have a rather small price around the mean but there also also a few more expensive ones."
   ]
  },
  {
   "cell_type": "code",
   "execution_count": 11,
   "metadata": {},
   "outputs": [
    {
     "data": {
      "text/plain": [
       "Text(0.5,1,'Average price of different room types')"
      ]
     },
     "execution_count": 11,
     "metadata": {},
     "output_type": "execute_result"
    },
    {
     "data": {
      "image/png": "[encoded data removed]",
      "text/plain": [
       "<Figure size 432x288 with 1 Axes>"
      ]
     },
     "metadata": {},
     "output_type": "display_data"
    }
   ],
   "source": [
    "# Calculate average room price and its standard deviation for bar chart:\n",
    "price_by_room = listings_df.groupby(['room_type']).mean()['price'].sort_values()\n",
    "std_by_room = listings_df.groupby(['room_type']).std()['price'].sort_values()\n",
    "\n",
    "plt.bar(list(price_by_room.index), price_by_room, yerr = std_by_room)\n",
    "plt.title(\"Average price of different room types\")"
   ]
  },
  {
   "cell_type": "code",
   "execution_count": 12,
   "metadata": {},
   "outputs": [
    {
     "data": {
      "text/plain": [
       "Text(0.5,1,'Average room size in squre feet')"
      ]
     },
     "execution_count": 12,
     "metadata": {},
     "output_type": "execute_result"
    },
    {
     "data": {
      "image/png": "[encoded data removed]",
      "text/plain": [
       "<Figure size 432x288 with 1 Axes>"
      ]
     },
     "metadata": {},
     "output_type": "display_data"
    }
   ],
   "source": [
    "# Calculate average room size and its standard deviation for bar chart:\n",
    "size_by_room = listings_df.groupby(['room_type']).mean()['square_feet'].sort_values()\n",
    "std_room_size = listings_df.groupby(['room_type']).std()['square_feet'].sort_values()\n",
    "\n",
    "plt.bar(list(size_by_room.index), size_by_room, yerr = std_room_size)\n",
    "plt.title(\"Average room size in squre feet\")"
   ]
  },
  {
   "cell_type": "markdown",
   "metadata": {},
   "source": [
    "### Answer to Question 1 and 2:\n",
    "\n",
    "From the data we see that the average price per night differs for different room types. It is low for shared rooms, higher for private rooms and the highest prices you can find for entire home/apartments. This is what we would expect.\n",
    "Nevertheless, you could be sourprised about the standard deviations: This is way higher for entire home/apt than for other room types. Can this be explained by room size? This is not the case as the mean and standard deviation of room size for private rooms and entire home/apt are quite similar. There must be other factors that explain room price and its variance."
   ]
  },
  {
   "cell_type": "markdown",
   "metadata": {},
   "source": [
    "### 3. Prepare Data"
   ]
  },
  {
   "cell_type": "code",
   "execution_count": 13,
   "metadata": {},
   "outputs": [
    {
     "name": "stdout",
     "output_type": "stream",
     "text": [
      "(3818, 49)\n"
     ]
    }
   ],
   "source": [
    "# Drop columns that are not relevant for data modelling:\n",
    "# Those columns are e.g. Ids or string fields like names that I do not expect to explain price.\n",
    "listings_short_df = listings_df\n",
    "columns_to_drop = ['id', 'listing_url', 'scrape_id', 'last_scraped', 'name', 'summary', 'space', 'description', 'neighborhood_overview', 'transit', 'thumbnail_url', 'medium_url', 'picture_url', 'xl_picture_url', 'host_id', 'host_url', 'host_name', 'host_location', 'host_about', 'host_thumbnail_url', 'host_picture_url', 'street', 'city', 'state', 'zipcode', 'market', 'smart_location', 'country_code', 'country', 'calendar_last_scraped', 'jurisdiction_names', 'weekly_price', 'monthly_price', 'notes', 'host_acceptance_rate', 'first_review', 'last_review', 'host_neighbourhood', 'experiences_offered', 'requires_license', 'neighbourhood_cleansed', 'has_availability','neighbourhood']\n",
    "listings_short_df = listings_df.drop(columns_to_drop, axis = 1)\n",
    "print(listings_short_df.shape)\n",
    "# host_acceptance_rate is dropped because all available values are the same (100%)."
   ]
  },
  {
   "cell_type": "code",
   "execution_count": 14,
   "metadata": {},
   "outputs": [
    {
     "name": "stdout",
     "output_type": "stream",
     "text": [
      "There are 3818 rows in the data set with 46 columns.\n"
     ]
    }
   ],
   "source": [
    "# First handle missing values\n",
    "# Drop all rows that have only missing values:\n",
    "listings_short_df = listings_short_df.dropna(axis=0, how='all')\n",
    "\n",
    "# Drop fields with more than 50% missing values:\n",
    "drop_fields_missing_values = list(listings_short_df.isnull().sum().sort_values(ascending=False)[listings_short_df.isnull().sum().sort_values(ascending=False)>(len(listings_short_df)*0.5)].index)\n",
    "listings_short_df = listings_short_df.drop(drop_fields_missing_values, axis = 1)\n",
    "\n",
    "# I would like to predict the price. So I drop all rows with missing values in price field:\n",
    "listings_short_df = listings_short_df.dropna(subset=['price'], how='any')\n",
    "\n",
    "number_rows = listings_short_df.shape[0]\n",
    "number_columns = listings_short_df.shape[1]\n",
    "\n",
    "print('There are', number_rows, 'rows in the data set with', number_columns, 'columns.')"
   ]
  },
  {
   "cell_type": "code",
   "execution_count": 15,
   "metadata": {},
   "outputs": [
    {
     "data": {
      "text/plain": [
       "cleaning_fee                        1030\n",
       "review_scores_accuracy               658\n",
       "review_scores_checkin                658\n",
       "review_scores_value                  656\n",
       "review_scores_location               655\n",
       "review_scores_cleanliness            653\n",
       "review_scores_communication          651\n",
       "review_scores_rating                 647\n",
       "reviews_per_month                    627\n",
       "host_response_time                   523\n",
       "host_response_rate                   523\n",
       "bathrooms                             16\n",
       "bedrooms                               6\n",
       "host_since                             2\n",
       "host_is_superhost                      2\n",
       "host_listings_count                    2\n",
       "host_total_listings_count              2\n",
       "host_has_profile_pic                   2\n",
       "host_identity_verified                 2\n",
       "property_type                          1\n",
       "beds                                   1\n",
       "extra_people                           0\n",
       "longitude                              0\n",
       "require_guest_profile_picture          0\n",
       "require_guest_phone_verification       0\n",
       "number_of_reviews                      0\n",
       "availability_365                       0\n",
       "availability_90                        0\n",
       "host_verifications                     0\n",
       "availability_60                        0\n",
       "availability_30                        0\n",
       "neighbourhood_group_cleansed           0\n",
       "latitude                               0\n",
       "is_location_exact                      0\n",
       "guests_included                        0\n",
       "calendar_updated                       0\n",
       "room_type                              0\n",
       "accommodates                           0\n",
       "maximum_nights                         0\n",
       "minimum_nights                         0\n",
       "cancellation_policy                    0\n",
       "bed_type                               0\n",
       "amenities                              0\n",
       "price                                  0\n",
       "calculated_host_listings_count         0\n",
       "instant_bookable                       0\n",
       "dtype: int64"
      ]
     },
     "execution_count": 15,
     "metadata": {},
     "output_type": "execute_result"
    }
   ],
   "source": [
    "# See how many values are missing for all columns:\n",
    "listings_short_df.isnull().sum().sort_values(ascending=False)"
   ]
  },
  {
   "cell_type": "code",
   "execution_count": 16,
   "metadata": {},
   "outputs": [
    {
     "name": "stdout",
     "output_type": "stream",
     "text": [
      "(3818, 47)\n"
     ]
    }
   ],
   "source": [
    "# Impute values in remaining columns with null values:\n",
    "impute_mean = lambda column: column.fillna(column.mean())\n",
    "impute_mode = lambda column: column.fillna(column.mode()[0])\n",
    "impute_zero = lambda column: column.fillna(0)\n",
    "\n",
    "#cleansing_fee has a $ sign similar to price field. Remove fist:\n",
    "listings_short_df['cleaning_fee'] = listings_short_df['cleaning_fee'].apply(lambda x: str(x).strip('$').replace(',', ''))\n",
    "listings_short_df['cleaning_fee'] = listings_short_df['cleaning_fee'].astype('float64')\n",
    "listings_short_df[['cleaning_fee']] = listings_short_df[['cleaning_fee']].apply(impute_mean, axis = 0)\n",
    "\n",
    "listings_short_df['extra_people'] = listings_short_df['extra_people'].apply(lambda x: str(x).strip('$').replace(',', ''))\n",
    "listings_short_df['extra_people'] = listings_short_df['extra_people'].astype('float64')\n",
    "listings_short_df['host_response_rate'] = listings_short_df['host_response_rate'].apply(lambda x: str(x).strip('%').replace(',', ''))\n",
    "listings_short_df['host_response_rate'] = listings_short_df['host_response_rate'].astype('float64')\n",
    "\n",
    "listings_short_df[['bathrooms']] = listings_short_df[['bathrooms']].apply(impute_mean, axis = 0)\n",
    "listings_short_df[['bedrooms']] = listings_short_df[['bedrooms']].apply(impute_mean, axis = 0)\n",
    "listings_short_df[['beds']] = listings_short_df[['beds']].apply(impute_mean, axis = 0)\n",
    "\n",
    "listings_short_df[['property_type']] = listings_short_df[['property_type']].apply(impute_mode, axis = 0)\n",
    "\n",
    "\n",
    "# For 627 rows there is no review score for various categories. I save those rows in a dummy variable:\n",
    "listings_short_df['review_scores_missing'] = listings_short_df['review_scores_checkin'].isnull()\n",
    "# Now the review scores fields can be imputed with mean:\n",
    "listings_short_df[['review_scores_checkin']] = listings_short_df[['review_scores_checkin']].apply(impute_mean, axis = 0)\n",
    "listings_short_df[['review_scores_accuracy']] = listings_short_df[['review_scores_accuracy']].apply(impute_mean, axis = 0)\n",
    "listings_short_df[['review_scores_value']] = listings_short_df[['review_scores_value']].apply(impute_mean, axis = 0)\n",
    "listings_short_df[['review_scores_location']] = listings_short_df[['review_scores_location']].apply(impute_mean, axis = 0)\n",
    "listings_short_df[['review_scores_cleanliness']] = listings_short_df[['review_scores_cleanliness']].apply(impute_mean, axis = 0)\n",
    "listings_short_df[['review_scores_communication']] = listings_short_df[['review_scores_communication']].apply(impute_mean, axis = 0)\n",
    "listings_short_df[['review_scores_rating']] = listings_short_df[['review_scores_rating']].apply(impute_mean, axis = 0)\n",
    "\n",
    "listings_short_df[['reviews_per_month']] = listings_short_df[['reviews_per_month']].apply(impute_zero, axis = 0)\n",
    "\n",
    "listings_short_df[['host_response_time']] = listings_short_df[['host_response_time']].apply(impute_mode, axis = 0)\n",
    "listings_short_df[['host_response_rate']] = listings_short_df[['host_response_rate']].apply(impute_mode, axis = 0)\n",
    "#listings_short_df[['host_neighbourhood']] = listings_short_df[['host_neighbourhood']].apply(impute_mean, axis = 0)\n",
    "\n",
    "listings_df['host_since'] = listings_df['host_since'].astype('datetime64')\n",
    "listings_short_df[['host_is_superhost']] = listings_short_df[['host_is_superhost']].apply(impute_mode, axis = 0)\n",
    "listings_short_df[['host_has_profile_pic']] = listings_short_df[['host_has_profile_pic']].apply(impute_mode, axis = 0)\n",
    "listings_short_df[['host_identity_verified']] = listings_short_df[['host_identity_verified']].apply(impute_mode, axis = 0)\n",
    "listings_short_df[['host_listings_count']] = listings_short_df[['host_listings_count']].apply(impute_mean, axis = 0)\n",
    "listings_short_df[['host_total_listings_count']] = listings_short_df[['host_total_listings_count']].apply(impute_mean, axis = 0)\n",
    "\n",
    "listings_short_df[['host_since']] = listings_short_df[['host_since']].apply(impute_mode, axis = 0)\n",
    "print(listings_short_df.shape)"
   ]
  },
  {
   "cell_type": "code",
   "execution_count": 29,
   "metadata": {},
   "outputs": [
    {
     "ename": "KeyError",
     "evalue": "'host_since'",
     "output_type": "error",
     "traceback": [
      "\u001b[1;31m---------------------------------------------------------------------------\u001b[0m",
      "\u001b[1;31mKeyError\u001b[0m                                  Traceback (most recent call last)",
      "\u001b[1;32mC:\\ProgramData\\Anaconda3\\lib\\site-packages\\pandas\\core\\indexes\\base.py\u001b[0m in \u001b[0;36mget_loc\u001b[1;34m(self, key, method, tolerance)\u001b[0m\n\u001b[0;32m   3062\u001b[0m             \u001b[1;32mtry\u001b[0m\u001b[1;33m:\u001b[0m\u001b[1;33m\u001b[0m\u001b[0m\n\u001b[1;32m-> 3063\u001b[1;33m                 \u001b[1;32mreturn\u001b[0m \u001b[0mself\u001b[0m\u001b[1;33m.\u001b[0m\u001b[0m_engine\u001b[0m\u001b[1;33m.\u001b[0m\u001b[0mget_loc\u001b[0m\u001b[1;33m(\u001b[0m\u001b[0mkey\u001b[0m\u001b[1;33m)\u001b[0m\u001b[1;33m\u001b[0m\u001b[0m\n\u001b[0m\u001b[0;32m   3064\u001b[0m             \u001b[1;32mexcept\u001b[0m \u001b[0mKeyError\u001b[0m\u001b[1;33m:\u001b[0m\u001b[1;33m\u001b[0m\u001b[0m\n",
      "\u001b[1;32mpandas\\_libs\\index.pyx\u001b[0m in \u001b[0;36mpandas._libs.index.IndexEngine.get_loc\u001b[1;34m()\u001b[0m\n",
      "\u001b[1;32mpandas\\_libs\\index.pyx\u001b[0m in \u001b[0;36mpandas._libs.index.IndexEngine.get_loc\u001b[1;34m()\u001b[0m\n",
      "\u001b[1;32mpandas\\_libs\\hashtable_class_helper.pxi\u001b[0m in \u001b[0;36mpandas._libs.hashtable.PyObjectHashTable.get_item\u001b[1;34m()\u001b[0m\n",
      "\u001b[1;32mpandas\\_libs\\hashtable_class_helper.pxi\u001b[0m in \u001b[0;36mpandas._libs.hashtable.PyObjectHashTable.get_item\u001b[1;34m()\u001b[0m\n",
      "\u001b[1;31mKeyError\u001b[0m: 'host_since'",
      "\nDuring handling of the above exception, another exception occurred:\n",
      "\u001b[1;31mKeyError\u001b[0m                                  Traceback (most recent call last)",
      "\u001b[1;32m<ipython-input-29-9b1a35c508fc>\u001b[0m in \u001b[0;36m<module>\u001b[1;34m()\u001b[0m\n\u001b[0;32m      1\u001b[0m \u001b[1;31m# Create 'host_since_year' from 'host_since':\u001b[0m\u001b[1;33m\u001b[0m\u001b[1;33m\u001b[0m\u001b[0m\n\u001b[1;32m----> 2\u001b[1;33m \u001b[0mlistings_short_df\u001b[0m\u001b[1;33m[\u001b[0m\u001b[1;34m'host_since_year'\u001b[0m\u001b[1;33m]\u001b[0m \u001b[1;33m=\u001b[0m \u001b[0mlistings_short_df\u001b[0m\u001b[1;33m[\u001b[0m\u001b[1;34m'host_since'\u001b[0m\u001b[1;33m]\u001b[0m\u001b[1;33m.\u001b[0m\u001b[0mapply\u001b[0m\u001b[1;33m(\u001b[0m\u001b[1;32mlambda\u001b[0m \u001b[0mx\u001b[0m\u001b[1;33m:\u001b[0m \u001b[0mstr\u001b[0m\u001b[1;33m(\u001b[0m\u001b[0mx\u001b[0m\u001b[1;33m)\u001b[0m\u001b[1;33m[\u001b[0m\u001b[1;36m0\u001b[0m\u001b[1;33m:\u001b[0m\u001b[1;36m4\u001b[0m\u001b[1;33m]\u001b[0m\u001b[1;33m)\u001b[0m\u001b[1;33m\u001b[0m\u001b[0m\n\u001b[0m\u001b[0;32m      3\u001b[0m \u001b[0mlistings_short_df\u001b[0m \u001b[1;33m=\u001b[0m \u001b[0mlistings_short_df\u001b[0m\u001b[1;33m.\u001b[0m\u001b[0mdrop\u001b[0m\u001b[1;33m(\u001b[0m\u001b[1;34m'host_since'\u001b[0m\u001b[1;33m,\u001b[0m \u001b[0maxis\u001b[0m \u001b[1;33m=\u001b[0m \u001b[1;36m1\u001b[0m\u001b[1;33m)\u001b[0m\u001b[1;33m\u001b[0m\u001b[0m\n\u001b[0;32m      4\u001b[0m \u001b[0mlistings_short_df\u001b[0m\u001b[1;33m[\u001b[0m\u001b[1;34m'host_since_year'\u001b[0m\u001b[1;33m]\u001b[0m \u001b[1;33m=\u001b[0m \u001b[0mlistings_short_df\u001b[0m\u001b[1;33m[\u001b[0m\u001b[1;34m'host_since_year'\u001b[0m\u001b[1;33m]\u001b[0m\u001b[1;33m.\u001b[0m\u001b[0mastype\u001b[0m\u001b[1;33m(\u001b[0m\u001b[1;34m'int64'\u001b[0m\u001b[1;33m)\u001b[0m\u001b[1;33m\u001b[0m\u001b[0m\n\u001b[0;32m      5\u001b[0m \u001b[0mprint\u001b[0m\u001b[1;33m(\u001b[0m\u001b[0mlistings_short_df\u001b[0m\u001b[1;33m[\u001b[0m\u001b[1;34m'host_since_year'\u001b[0m\u001b[1;33m]\u001b[0m\u001b[1;33m[\u001b[0m\u001b[1;36m0\u001b[0m\u001b[1;33m:\u001b[0m\u001b[1;36m5\u001b[0m\u001b[1;33m]\u001b[0m\u001b[1;33m)\u001b[0m\u001b[1;33m\u001b[0m\u001b[0m\n",
      "\u001b[1;32mC:\\ProgramData\\Anaconda3\\lib\\site-packages\\pandas\\core\\frame.py\u001b[0m in \u001b[0;36m__getitem__\u001b[1;34m(self, key)\u001b[0m\n\u001b[0;32m   2683\u001b[0m             \u001b[1;32mreturn\u001b[0m \u001b[0mself\u001b[0m\u001b[1;33m.\u001b[0m\u001b[0m_getitem_multilevel\u001b[0m\u001b[1;33m(\u001b[0m\u001b[0mkey\u001b[0m\u001b[1;33m)\u001b[0m\u001b[1;33m\u001b[0m\u001b[0m\n\u001b[0;32m   2684\u001b[0m         \u001b[1;32melse\u001b[0m\u001b[1;33m:\u001b[0m\u001b[1;33m\u001b[0m\u001b[0m\n\u001b[1;32m-> 2685\u001b[1;33m             \u001b[1;32mreturn\u001b[0m \u001b[0mself\u001b[0m\u001b[1;33m.\u001b[0m\u001b[0m_getitem_column\u001b[0m\u001b[1;33m(\u001b[0m\u001b[0mkey\u001b[0m\u001b[1;33m)\u001b[0m\u001b[1;33m\u001b[0m\u001b[0m\n\u001b[0m\u001b[0;32m   2686\u001b[0m \u001b[1;33m\u001b[0m\u001b[0m\n\u001b[0;32m   2687\u001b[0m     \u001b[1;32mdef\u001b[0m \u001b[0m_getitem_column\u001b[0m\u001b[1;33m(\u001b[0m\u001b[0mself\u001b[0m\u001b[1;33m,\u001b[0m \u001b[0mkey\u001b[0m\u001b[1;33m)\u001b[0m\u001b[1;33m:\u001b[0m\u001b[1;33m\u001b[0m\u001b[0m\n",
      "\u001b[1;32mC:\\ProgramData\\Anaconda3\\lib\\site-packages\\pandas\\core\\frame.py\u001b[0m in \u001b[0;36m_getitem_column\u001b[1;34m(self, key)\u001b[0m\n\u001b[0;32m   2690\u001b[0m         \u001b[1;31m# get column\u001b[0m\u001b[1;33m\u001b[0m\u001b[1;33m\u001b[0m\u001b[0m\n\u001b[0;32m   2691\u001b[0m         \u001b[1;32mif\u001b[0m \u001b[0mself\u001b[0m\u001b[1;33m.\u001b[0m\u001b[0mcolumns\u001b[0m\u001b[1;33m.\u001b[0m\u001b[0mis_unique\u001b[0m\u001b[1;33m:\u001b[0m\u001b[1;33m\u001b[0m\u001b[0m\n\u001b[1;32m-> 2692\u001b[1;33m             \u001b[1;32mreturn\u001b[0m \u001b[0mself\u001b[0m\u001b[1;33m.\u001b[0m\u001b[0m_get_item_cache\u001b[0m\u001b[1;33m(\u001b[0m\u001b[0mkey\u001b[0m\u001b[1;33m)\u001b[0m\u001b[1;33m\u001b[0m\u001b[0m\n\u001b[0m\u001b[0;32m   2693\u001b[0m \u001b[1;33m\u001b[0m\u001b[0m\n\u001b[0;32m   2694\u001b[0m         \u001b[1;31m# duplicate columns & possible reduce dimensionality\u001b[0m\u001b[1;33m\u001b[0m\u001b[1;33m\u001b[0m\u001b[0m\n",
      "\u001b[1;32mC:\\ProgramData\\Anaconda3\\lib\\site-packages\\pandas\\core\\generic.py\u001b[0m in \u001b[0;36m_get_item_cache\u001b[1;34m(self, item)\u001b[0m\n\u001b[0;32m   2484\u001b[0m         \u001b[0mres\u001b[0m \u001b[1;33m=\u001b[0m \u001b[0mcache\u001b[0m\u001b[1;33m.\u001b[0m\u001b[0mget\u001b[0m\u001b[1;33m(\u001b[0m\u001b[0mitem\u001b[0m\u001b[1;33m)\u001b[0m\u001b[1;33m\u001b[0m\u001b[0m\n\u001b[0;32m   2485\u001b[0m         \u001b[1;32mif\u001b[0m \u001b[0mres\u001b[0m \u001b[1;32mis\u001b[0m \u001b[1;32mNone\u001b[0m\u001b[1;33m:\u001b[0m\u001b[1;33m\u001b[0m\u001b[0m\n\u001b[1;32m-> 2486\u001b[1;33m             \u001b[0mvalues\u001b[0m \u001b[1;33m=\u001b[0m \u001b[0mself\u001b[0m\u001b[1;33m.\u001b[0m\u001b[0m_data\u001b[0m\u001b[1;33m.\u001b[0m\u001b[0mget\u001b[0m\u001b[1;33m(\u001b[0m\u001b[0mitem\u001b[0m\u001b[1;33m)\u001b[0m\u001b[1;33m\u001b[0m\u001b[0m\n\u001b[0m\u001b[0;32m   2487\u001b[0m             \u001b[0mres\u001b[0m \u001b[1;33m=\u001b[0m \u001b[0mself\u001b[0m\u001b[1;33m.\u001b[0m\u001b[0m_box_item_values\u001b[0m\u001b[1;33m(\u001b[0m\u001b[0mitem\u001b[0m\u001b[1;33m,\u001b[0m \u001b[0mvalues\u001b[0m\u001b[1;33m)\u001b[0m\u001b[1;33m\u001b[0m\u001b[0m\n\u001b[0;32m   2488\u001b[0m             \u001b[0mcache\u001b[0m\u001b[1;33m[\u001b[0m\u001b[0mitem\u001b[0m\u001b[1;33m]\u001b[0m \u001b[1;33m=\u001b[0m \u001b[0mres\u001b[0m\u001b[1;33m\u001b[0m\u001b[0m\n",
      "\u001b[1;32mC:\\ProgramData\\Anaconda3\\lib\\site-packages\\pandas\\core\\internals.py\u001b[0m in \u001b[0;36mget\u001b[1;34m(self, item, fastpath)\u001b[0m\n\u001b[0;32m   4113\u001b[0m \u001b[1;33m\u001b[0m\u001b[0m\n\u001b[0;32m   4114\u001b[0m             \u001b[1;32mif\u001b[0m \u001b[1;32mnot\u001b[0m \u001b[0misna\u001b[0m\u001b[1;33m(\u001b[0m\u001b[0mitem\u001b[0m\u001b[1;33m)\u001b[0m\u001b[1;33m:\u001b[0m\u001b[1;33m\u001b[0m\u001b[0m\n\u001b[1;32m-> 4115\u001b[1;33m                 \u001b[0mloc\u001b[0m \u001b[1;33m=\u001b[0m \u001b[0mself\u001b[0m\u001b[1;33m.\u001b[0m\u001b[0mitems\u001b[0m\u001b[1;33m.\u001b[0m\u001b[0mget_loc\u001b[0m\u001b[1;33m(\u001b[0m\u001b[0mitem\u001b[0m\u001b[1;33m)\u001b[0m\u001b[1;33m\u001b[0m\u001b[0m\n\u001b[0m\u001b[0;32m   4116\u001b[0m             \u001b[1;32melse\u001b[0m\u001b[1;33m:\u001b[0m\u001b[1;33m\u001b[0m\u001b[0m\n\u001b[0;32m   4117\u001b[0m                 \u001b[0mindexer\u001b[0m \u001b[1;33m=\u001b[0m \u001b[0mnp\u001b[0m\u001b[1;33m.\u001b[0m\u001b[0marange\u001b[0m\u001b[1;33m(\u001b[0m\u001b[0mlen\u001b[0m\u001b[1;33m(\u001b[0m\u001b[0mself\u001b[0m\u001b[1;33m.\u001b[0m\u001b[0mitems\u001b[0m\u001b[1;33m)\u001b[0m\u001b[1;33m)\u001b[0m\u001b[1;33m[\u001b[0m\u001b[0misna\u001b[0m\u001b[1;33m(\u001b[0m\u001b[0mself\u001b[0m\u001b[1;33m.\u001b[0m\u001b[0mitems\u001b[0m\u001b[1;33m)\u001b[0m\u001b[1;33m]\u001b[0m\u001b[1;33m\u001b[0m\u001b[0m\n",
      "\u001b[1;32mC:\\ProgramData\\Anaconda3\\lib\\site-packages\\pandas\\core\\indexes\\base.py\u001b[0m in \u001b[0;36mget_loc\u001b[1;34m(self, key, method, tolerance)\u001b[0m\n\u001b[0;32m   3063\u001b[0m                 \u001b[1;32mreturn\u001b[0m \u001b[0mself\u001b[0m\u001b[1;33m.\u001b[0m\u001b[0m_engine\u001b[0m\u001b[1;33m.\u001b[0m\u001b[0mget_loc\u001b[0m\u001b[1;33m(\u001b[0m\u001b[0mkey\u001b[0m\u001b[1;33m)\u001b[0m\u001b[1;33m\u001b[0m\u001b[0m\n\u001b[0;32m   3064\u001b[0m             \u001b[1;32mexcept\u001b[0m \u001b[0mKeyError\u001b[0m\u001b[1;33m:\u001b[0m\u001b[1;33m\u001b[0m\u001b[0m\n\u001b[1;32m-> 3065\u001b[1;33m                 \u001b[1;32mreturn\u001b[0m \u001b[0mself\u001b[0m\u001b[1;33m.\u001b[0m\u001b[0m_engine\u001b[0m\u001b[1;33m.\u001b[0m\u001b[0mget_loc\u001b[0m\u001b[1;33m(\u001b[0m\u001b[0mself\u001b[0m\u001b[1;33m.\u001b[0m\u001b[0m_maybe_cast_indexer\u001b[0m\u001b[1;33m(\u001b[0m\u001b[0mkey\u001b[0m\u001b[1;33m)\u001b[0m\u001b[1;33m)\u001b[0m\u001b[1;33m\u001b[0m\u001b[0m\n\u001b[0m\u001b[0;32m   3066\u001b[0m \u001b[1;33m\u001b[0m\u001b[0m\n\u001b[0;32m   3067\u001b[0m         \u001b[0mindexer\u001b[0m \u001b[1;33m=\u001b[0m \u001b[0mself\u001b[0m\u001b[1;33m.\u001b[0m\u001b[0mget_indexer\u001b[0m\u001b[1;33m(\u001b[0m\u001b[1;33m[\u001b[0m\u001b[0mkey\u001b[0m\u001b[1;33m]\u001b[0m\u001b[1;33m,\u001b[0m \u001b[0mmethod\u001b[0m\u001b[1;33m=\u001b[0m\u001b[0mmethod\u001b[0m\u001b[1;33m,\u001b[0m \u001b[0mtolerance\u001b[0m\u001b[1;33m=\u001b[0m\u001b[0mtolerance\u001b[0m\u001b[1;33m)\u001b[0m\u001b[1;33m\u001b[0m\u001b[0m\n",
      "\u001b[1;32mpandas\\_libs\\index.pyx\u001b[0m in \u001b[0;36mpandas._libs.index.IndexEngine.get_loc\u001b[1;34m()\u001b[0m\n",
      "\u001b[1;32mpandas\\_libs\\index.pyx\u001b[0m in \u001b[0;36mpandas._libs.index.IndexEngine.get_loc\u001b[1;34m()\u001b[0m\n",
      "\u001b[1;32mpandas\\_libs\\hashtable_class_helper.pxi\u001b[0m in \u001b[0;36mpandas._libs.hashtable.PyObjectHashTable.get_item\u001b[1;34m()\u001b[0m\n",
      "\u001b[1;32mpandas\\_libs\\hashtable_class_helper.pxi\u001b[0m in \u001b[0;36mpandas._libs.hashtable.PyObjectHashTable.get_item\u001b[1;34m()\u001b[0m\n",
      "\u001b[1;31mKeyError\u001b[0m: 'host_since'"
     ]
    }
   ],
   "source": [
    "# Create 'host_since_year' from 'host_since':\n",
    "listings_short_df['host_since_year'] = listings_short_df['host_since'].apply(lambda x: str(x)[0:4])\n",
    "listings_short_df = listings_short_df.drop('host_since', axis = 1)\n",
    "listings_short_df['host_since_year'] = listings_short_df['host_since_year'].astype('int64')"
   ]
  },
  {
   "cell_type": "code",
   "execution_count": 50,
   "metadata": {},
   "outputs": [
    {
     "name": "stdout",
     "output_type": "stream",
     "text": [
      "['review_scores_missing']\n"
     ]
    },
    {
     "data": {
      "text/plain": [
       "'review_scores_missing'"
      ]
     },
     "execution_count": 50,
     "metadata": {},
     "output_type": "execute_result"
    }
   ],
   "source": [
    "# What about boolean variables? First create a list \n",
    "list_bool_variables = list(listings_short_df.dtypes.sort_values()[listings_short_df.dtypes.sort_values()=='bool'].index)\n",
    "print(list_bool_variables)"
   ]
  },
  {
   "cell_type": "code",
   "execution_count": 51,
   "metadata": {
    "scrolled": false
   },
   "outputs": [
    {
     "name": "stdout",
     "output_type": "stream",
     "text": [
      "['amenities', 'host_is_superhost', 'require_guest_phone_verification', 'require_guest_profile_picture', 'cancellation_policy', 'instant_bookable', 'host_identity_verified', 'host_has_profile_pic', 'neighbourhood_group_cleansed', 'is_location_exact', 'property_type', 'room_type', 'calendar_updated', 'bed_type', 'host_verifications', 'host_response_time', 'review_scores_missing']\n"
     ]
    }
   ],
   "source": [
    "# What about categorical variables? Create annother list and append both\n",
    "list_cat_variables = list(listings_short_df.dtypes.sort_values()[listings_short_df.dtypes.sort_values()=='object'].index)\n",
    "# Add boolean variable:\n",
    "list_cat_variables.append(list_bool_variables[0])\n",
    "print(list_cat_variables)"
   ]
  },
  {
   "cell_type": "code",
   "execution_count": 52,
   "metadata": {},
   "outputs": [
    {
     "name": "stdout",
     "output_type": "stream",
     "text": [
      "(3818, 101)\n"
     ]
    }
   ],
   "source": [
    "# 'host_verifications' and 'amenities' contain many values per row. Create dummy variables for all entries:\n",
    "listings_dummies_df = listings_short_df\n",
    "\n",
    "listings_dummies_df['host_verifications'] = listings_dummies_df['host_verifications'].apply(lambda x: str(x).strip('[').strip(']').replace(\"'\", \"\"))\n",
    "listings_dummies_df['amenities'] = listings_dummies_df['amenities'].apply(lambda x: str(x).strip('{').strip('}').replace('\"', ''))\n",
    "\n",
    "listings_dummies_conc_df = pd.concat([listings_dummies_df, \n",
    "                               listings_dummies_df['amenities'].str.get_dummies(sep=\",\").add_prefix('amenities_'),\n",
    "                               listings_dummies_df['host_verifications'].str.get_dummies(sep=\", \").add_prefix('host_verifications_')], axis = 1)\n",
    "\n",
    "listings_dummies_clean_df = listings_dummies_conc_df.drop(['amenities', 'host_verifications'], axis = 1)\n",
    "print(listings_dummies_clean_df.shape)\n",
    "\n",
    "# I found a hint on how to split amenities and host_verifications on StackExchange:\n",
    "# https://datascience.stackexchange.com/questions/38914/a-single-column-has-many-values-per-row-separated-by-a-comma-how-to-create-an"
   ]
  },
  {
   "cell_type": "code",
   "execution_count": 56,
   "metadata": {},
   "outputs": [
    {
     "name": "stdout",
     "output_type": "stream",
     "text": [
      "host_is_superhost\n",
      "(3818, 1)\n",
      "host_has_profile_pic\n",
      "(3818, 1)\n",
      "host_identity_verified\n",
      "(3818, 1)\n",
      "neighbourhood_group_cleansed\n",
      "(3818, 16)\n",
      "calendar_updated\n",
      "(3818, 33)\n",
      "property_type\n",
      "(3818, 15)\n",
      "room_type\n",
      "(3818, 2)\n",
      "bed_type\n",
      "(3818, 4)\n",
      "instant_bookable\n",
      "(3818, 1)\n",
      "cancellation_policy\n",
      "(3818, 2)\n",
      "require_guest_profile_picture\n",
      "(3818, 1)\n",
      "require_guest_phone_verification\n",
      "(3818, 1)\n",
      "is_location_exact\n",
      "(3818, 1)\n",
      "host_response_time\n",
      "(3818, 3)\n",
      "review_scores_missing\n",
      "(3818, 1)\n"
     ]
    }
   ],
   "source": [
    "# See how many dummy variables would be created from categorical variables:\n",
    "list_cat_variables = list(listings_dummies_clean_df.dtypes.sort_values()[listings_dummies_clean_df.dtypes.sort_values()=='object'].index)\n",
    "list_bool_variables = list(listings_short_df.dtypes.sort_values()[listings_short_df.dtypes.sort_values()=='bool'].index)\n",
    "list_cat_variables.append(list_bool_variables[0])\n",
    "for col in list_cat_variables:\n",
    "    print(col)\n",
    "    print(pd.get_dummies(listings_short_df[col], prefix = col, prefix_sep = '_', drop_first = True).shape)"
   ]
  },
  {
   "cell_type": "code",
   "execution_count": 57,
   "metadata": {},
   "outputs": [
    {
     "name": "stdout",
     "output_type": "stream",
     "text": [
      "(3818, 169)\n"
     ]
    }
   ],
   "source": [
    "# Create dummy variables from categorical variables:\n",
    "listings_dummies_all_clean_df = listings_dummies_clean_df\n",
    "\n",
    "for col in list_cat_variables:\n",
    "    listings_dummies_all_clean_df = pd.concat(\n",
    "        [\n",
    "        pd.get_dummies(listings_dummies_all_clean_df[col], prefix = col,prefix_sep = '_', drop_first = True),\n",
    "        listings_dummies_all_clean_df\n",
    "        ]\n",
    "        ,axis = 1)\n",
    "\n",
    "for col in list_cat_variables:\n",
    "    listings_dummies_all_clean_df = listings_dummies_all_clean_df.drop(col, axis = 1)\n",
    "    \n",
    "print(listings_dummies_all_clean_df.shape)"
   ]
  },
  {
   "cell_type": "code",
   "execution_count": 61,
   "metadata": {},
   "outputs": [],
   "source": [
    "df = listings_dummies_all_clean_df"
   ]
  },
  {
   "cell_type": "markdown",
   "metadata": {},
   "source": [
    "### 3. Prepare Data"
   ]
  },
  {
   "cell_type": "code",
   "execution_count": 66,
   "metadata": {},
   "outputs": [],
   "source": [
    "# Split data into target variable and input data. Then split into training and test data:\n",
    "y = df['price']\n",
    "X = df.drop(['price'], axis = 1)\n",
    "\n",
    "X_train, X_test, y_train, y_test = train_test_split(X, y, test_size = 0.30, random_state = 99)"
   ]
  },
  {
   "cell_type": "code",
   "execution_count": 215,
   "metadata": {},
   "outputs": [
    {
     "name": "stderr",
     "output_type": "stream",
     "text": [
      "C:\\ProgramData\\Anaconda3\\lib\\site-packages\\ipykernel_launcher.py:12: UserWarning: With alpha=0, this algorithm does not converge well. You are advised to use the LinearRegression estimator\n",
      "  if sys.path[0] == '':\n",
      "C:\\ProgramData\\Anaconda3\\lib\\site-packages\\sklearn\\linear_model\\coordinate_descent.py:477: UserWarning: Coordinate descent with no regularization may lead to unexpected results and is discouraged.\n",
      "  positive)\n",
      "C:\\ProgramData\\Anaconda3\\lib\\site-packages\\sklearn\\linear_model\\coordinate_descent.py:491: ConvergenceWarning: Objective did not converge. You might want to increase the number of iterations. Fitting data with very small alpha may cause precision problems.\n",
      "  ConvergenceWarning)\n"
     ]
    }
   ],
   "source": [
    "# Conduct a grid search for various values for alpha:\n",
    "y_pred = []\n",
    "mse = []\n",
    "i = -1\n",
    "relevant_fields= []\n",
    "\n",
    "for alpha in list(np.arange(0, 1.05, 0.05)):\n",
    "    i += 1\n",
    "    # Initialize the lasso model:\n",
    "    lasso_model = Lasso(normalize = True, alpha = alpha)\n",
    "    # Fit lasso model to training data:\n",
    "    lasso_model.fit(X_train, y_train)\n",
    "    # Make a prediction on test data:\n",
    "    y_pred.append(lasso_model.predict(X_test))\n",
    "    # Calculate mean squared error for test data:\n",
    "    mse.append(mean_squared_error(y_test, y_pred[i]))\n",
    "    \n",
    "    # Save all fields with a coefficient different from 0:\n",
    "    list_relevant_fields = (abs(lasso_model.coef_)>0.1)\n",
    "    list_relevant_fields_names = pd.DataFrame(list(listings_dummies_all_clean_df.columns)[1:])[list_relevant_fields]\n",
    "    for j in list_relevant_fields_names[0]:\n",
    "        relevant_fields.append(j)#list_relevant_fields_names[i].values[j])\n",
    "    "
   ]
  },
  {
   "cell_type": "code",
   "execution_count": 214,
   "metadata": {},
   "outputs": [
    {
     "data": {
      "image/png": "[encoded data removed]",
      "text/plain": [
       "<Figure size 640x480 with 1 Axes>"
      ]
     },
     "metadata": {},
     "output_type": "display_data"
    }
   ],
   "source": [
    "# Plot 10 most important fields in a bar chart:\n",
    "\n",
    "plt.close()\n",
    "plt.rcdefaults()\n",
    "fig, ax = plt.subplots()\n",
    "\n",
    "# Example data\n",
    "people = df3[0].value_counts().index[:10]\n",
    "y_pos = np.arange(len(people))\n",
    "performance = df3[0].value_counts()[:10]\n",
    "#error = np.random.rand(len(people))\n",
    "\n",
    "ax.barh(y_pos, performance, align='center')\n",
    "ax.set_yticks(y_pos)\n",
    "ax.set_yticklabels(people)\n",
    "ax.invert_yaxis()  # labels read top-to-bottom\n",
    "ax.set_xlabel('Importance of a field')\n",
    "ax.set_title('What are most important fields for price per night?')\n",
    "\n",
    "plt.show()\n",
    "\n",
    "# I this code on how to create a bar chart here:\n",
    "# https://matplotlib.org/3.1.1/gallery/lines_bars_and_markers/barh.html"
   ]
  },
  {
   "cell_type": "markdown",
   "metadata": {},
   "source": [
    "### Answer to Question 3:\n",
    "In the bar chart above you can see which fields where used by lasso regression most often. Those fields seem to have a huge impact on price.\n",
    "You find that the number of beds, bathrooms and bedrooms have a huge impact. Also the cleaning fee is important. This is less surprising as it might be considered as a part of the price a guest needs to pay.\n",
    "Furthermore the room type, the property type and the neighbourhood is important. People also check if an offer provides an elevator and if you can bring guests."
   ]
  },
  {
   "cell_type": "code",
   "execution_count": null,
   "metadata": {},
   "outputs": [],
   "source": []
  }
 ],
 "metadata": {
  "kernelspec": {
   "display_name": "Python 3",
   "language": "python",
   "name": "python3"
  },
  "language_info": {
   "codemirror_mode": {
    "name": "ipython",
    "version": 3
   },
   "file_extension": ".py",
   "mimetype": "text/x-python",
   "name": "python",
   "nbconvert_exporter": "python",
   "pygments_lexer": "ipython3",
   "version": "3.6.5"
  }
 },
 "nbformat": 4,
 "nbformat_minor": 2
}
